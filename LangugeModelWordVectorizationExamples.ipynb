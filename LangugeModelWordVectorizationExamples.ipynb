{
 "metadata": {
  "language_info": {
   "codemirror_mode": {
    "name": "ipython",
    "version": 3
   },
   "file_extension": ".py",
   "mimetype": "text/x-python",
   "name": "python",
   "nbconvert_exporter": "python",
   "pygments_lexer": "ipython3",
   "version": "3.8.3"
  },
  "orig_nbformat": 2,
  "kernelspec": {
   "name": "python383jvsc74a57bd0cf6d230331099d4773a6137a56c3541746da970bab15c4b63349a6079cb56b25",
   "display_name": "Python 3.8.3 64-bit ('base': conda)"
  }
 },
 "nbformat": 4,
 "nbformat_minor": 2,
 "cells": [
  {
   "cell_type": "code",
   "execution_count": null,
   "metadata": {},
   "outputs": [],
   "source": [
    "# code for producing n-grams:\n",
    "def ngrams(wordlist, n=2):\n",
    "    for index in range(len(wordlist)-n+1):\n",
    "        yield(tuple(words[index:index+n]))\n",
    "#selecting the most signifcant ngrams requires a corpus of large text documents. Then collocations can be used to find statistically significant ngrams"
   ]
  },
  {
   "cell_type": "code",
   "execution_count": 11,
   "metadata": {},
   "outputs": [],
   "source": [
    "#FastTest and Word2Vec both use Gensim\n",
    "#Code reference from Natural Language Processing in Action textbook"
   ]
  },
  {
   "source": [
    "# Using Google's Word2Vec through Gensim"
   ],
   "cell_type": "markdown",
   "metadata": {}
  },
  {
   "cell_type": "code",
   "execution_count": 1,
   "metadata": {},
   "outputs": [],
   "source": [
    "#Accessing Google's Word2Vec\n",
    "import gensim\n",
    "from gensim.models.keyedvectors import KeyedVectors\n",
    "model = gensim.models.KeyedVectors.load_word2vec_format(r'c:\\Users\\faria\\Documents\\BAGO project material\\code\\EmailMiningPipeline\\GoogleNews-vectors-negative300.bin.gz', binary=True)"
   ]
  },
  {
   "cell_type": "code",
   "execution_count": 2,
   "metadata": {},
   "outputs": [
    {
     "output_type": "execute_result",
     "data": {
      "text/plain": [
       "[('potatoes', 0.792025625705719),\n",
       " ('tomato', 0.6784172058105469),\n",
       " ('onion', 0.6774097681045532),\n",
       " ('spuds', 0.6668086051940918),\n",
       " ('sweet_potato', 0.6572370529174805),\n",
       " ('Potato', 0.6515772342681885),\n",
       " ('Potatoes', 0.6426205635070801),\n",
       " ('lentil', 0.6295645236968994),\n",
       " ('vegetable', 0.6291500926017761),\n",
       " ('beet', 0.6268625259399414)]"
      ]
     },
     "metadata": {},
     "execution_count": 2
    }
   ],
   "source": [
    "model.most_similar(\"potato\")"
   ]
  },
  {
   "cell_type": "code",
   "execution_count": 5,
   "metadata": {},
   "outputs": [
    {
     "output_type": "execute_result",
     "data": {
      "text/plain": [
       "[('potatoes', 0.7155822515487671),\n",
       " ('Slow_cooker', 0.7124803066253662),\n",
       " ('pasta', 0.6996467113494873),\n",
       " ('vegetable_casserole', 0.696749210357666),\n",
       " ('chicken_croquettes', 0.6960680484771729),\n",
       " ('soup', 0.68767249584198),\n",
       " ('brined_turkey', 0.6854720115661621),\n",
       " ('mashed_cauliflower', 0.6851048469543457),\n",
       " ('meatloaves', 0.6849689483642578),\n",
       " ('drummettes', 0.6818225383758545)]"
      ]
     },
     "metadata": {},
     "execution_count": 5
    }
   ],
   "source": [
    "#the positive parameter adds vectors together\n",
    "model.most_similar(positive=[\"potato\",\"gravy\",\"cooking\"])"
   ]
  },
  {
   "cell_type": "code",
   "execution_count": 9,
   "metadata": {},
   "outputs": [
    {
     "output_type": "execute_result",
     "data": {
      "text/plain": [
       "[('Calgary', 0.6565783619880676),\n",
       " ('Montreal', 0.647961437702179),\n",
       " ('Ottawa', 0.6406866908073425),\n",
       " ('Winnipeg', 0.6274126768112183),\n",
       " ('Saskatoon', 0.627193808555603),\n",
       " ('Edmonton', 0.6234104037284851),\n",
       " ('Vancouver', 0.614386796951294),\n",
       " ('Ontario', 0.6094095706939697),\n",
       " ('Mississauga', 0.5984460115432739),\n",
       " ('Manitoba', 0.5875650644302368)]"
      ]
     },
     "metadata": {},
     "execution_count": 9
    }
   ],
   "source": [
    "#negative parameter substracts vectors from one another\n",
    "#in this example I see Montreal listed because I decided to subtract the \"English vector\"\n",
    "model.most_similar(positive=[\"Canada\",\"Toronto\"], negative=[\"English\"])"
   ]
  },
  {
   "cell_type": "code",
   "execution_count": 10,
   "metadata": {},
   "outputs": [
    {
     "output_type": "execute_result",
     "data": {
      "text/plain": [
       "[('Calgary', 0.6506041288375854),\n",
       " ('Edmonton', 0.632746160030365),\n",
       " ('Winnipeg', 0.6117793321609497),\n",
       " ('Mississauga', 0.6074497699737549),\n",
       " ('Ottawa', 0.6069867014884949),\n",
       " ('Vancouver', 0.6040143370628357),\n",
       " ('Ontario', 0.6007093787193298),\n",
       " ('Saskatoon', 0.5926933288574219),\n",
       " ('Guelph', 0.5844779014587402),\n",
       " ('Manitoba', 0.5723534226417542)]"
      ]
     },
     "metadata": {},
     "execution_count": 10
    }
   ],
   "source": [
    "# Here I perform a similar operation but with regards to french and don't see montreal in the results\n",
    "model.most_similar(positive=[\"Canada\",\"Toronto\"], negative=[\"French\"])"
   ]
  },
  {
   "cell_type": "code",
   "execution_count": 14,
   "metadata": {},
   "outputs": [
    {
     "output_type": "execute_result",
     "data": {
      "text/plain": [
       "'fly'"
      ]
     },
     "metadata": {},
     "execution_count": 14
    }
   ],
   "source": [
    "# I can take a string and run the 'doesn't_match' function to find the odd one out\n",
    "model.doesnt_match(\"spider pigs fly just like birds and crawl like bugs\".split()) "
   ]
  },
  {
   "cell_type": "code",
   "execution_count": 16,
   "metadata": {},
   "outputs": [
    {
     "output_type": "execute_result",
     "data": {
      "text/plain": [
       "300"
      ]
     },
     "metadata": {},
     "execution_count": 16
    }
   ],
   "source": [
    "#Each Vector is 300 dimensions\n",
    "len(model['iphone'])"
   ]
  },
  {
   "cell_type": "code",
   "execution_count": 17,
   "metadata": {},
   "outputs": [
    {
     "output_type": "execute_result",
     "data": {
      "text/plain": [
       "array([-0.47851562, -0.23242188, -0.14746094,  0.06787109, -0.23632812,\n",
       "        0.11669922,  0.14550781, -0.09765625,  0.15136719,  0.11865234,\n",
       "       -0.30859375, -0.14648438, -0.19726562, -0.40039062,  0.17578125,\n",
       "        0.20507812,  0.28710938,  0.10449219,  0.08300781, -0.23925781,\n",
       "        0.08349609, -0.03857422,  0.265625  ,  0.0534668 , -0.31445312,\n",
       "        0.30664062, -0.25195312,  0.34960938, -0.00582886, -0.25195312,\n",
       "       -0.02368164, -0.06591797, -0.13574219,  0.26953125, -0.06298828,\n",
       "        0.05493164, -0.4609375 , -0.06787109,  0.15429688,  0.0546875 ,\n",
       "       -0.01312256,  0.06982422,  0.08984375,  0.21386719,  0.07470703,\n",
       "       -0.21972656,  0.203125  , -0.33007812, -0.20410156, -0.30859375,\n",
       "       -0.08349609,  0.02246094,  0.20703125,  0.12597656,  0.07226562,\n",
       "        0.1640625 , -0.15039062, -0.0534668 , -0.0534668 ,  0.10791016,\n",
       "        0.05004883, -0.03100586, -0.17480469,  0.13574219, -0.41601562,\n",
       "        0.12597656, -0.30273438, -0.04492188, -0.25976562,  0.01599121,\n",
       "        0.09277344,  0.14941406, -0.10058594, -0.0030365 , -0.33203125,\n",
       "       -0.20996094,  0.04980469,  0.11035156, -0.10498047, -0.37890625,\n",
       "       -0.31445312,  0.328125  , -0.24804688, -0.140625  , -0.08789062,\n",
       "       -0.10791016,  0.04174805,  0.34375   , -0.21679688,  0.10693359,\n",
       "       -0.29882812,  0.20507812, -0.25195312, -0.28125   ,  0.22753906,\n",
       "       -0.16894531, -0.14160156, -0.07421875,  0.6640625 ,  0.14550781,\n",
       "       -0.02331543, -0.19042969, -0.01928711,  0.19042969,  0.13476562,\n",
       "        0.20996094, -0.00512695, -0.140625  ,  0.27734375, -0.34765625,\n",
       "       -0.2734375 ,  0.13769531,  0.08886719,  0.09960938, -0.00854492,\n",
       "        0.13769531, -0.15917969, -0.75      ,  0.12792969,  0.03222656,\n",
       "        0.07763672, -0.33203125, -0.36914062, -0.04443359,  0.5234375 ,\n",
       "        0.19335938, -0.20800781,  0.14355469, -0.30859375,  0.14746094,\n",
       "       -0.11279297, -0.02392578, -0.13769531,  0.04345703, -0.07470703,\n",
       "       -0.07617188,  0.06225586,  0.09277344,  0.09375   , -0.12109375,\n",
       "        0.23925781, -0.24902344, -0.31054688, -0.14453125, -0.12695312,\n",
       "        0.03320312,  0.07080078, -0.02526855, -0.3046875 , -0.38671875,\n",
       "        0.19140625, -0.53125   , -0.03100586,  0.05249023, -0.16308594,\n",
       "       -0.20800781, -0.11621094,  0.1640625 , -0.13769531,  0.22070312,\n",
       "       -0.3984375 , -0.05981445, -0.26367188, -0.29101562, -0.08984375,\n",
       "       -0.25      ,  0.16308594, -0.06884766, -0.27539062,  0.15039062,\n",
       "        0.02197266,  0.01696777, -0.36914062, -0.11962891, -0.3984375 ,\n",
       "       -0.0145874 ,  0.515625  , -0.55859375,  0.12597656, -0.31054688,\n",
       "       -0.31835938,  0.01104736, -0.07470703,  0.06152344,  0.24023438,\n",
       "        0.10009766, -0.24804688,  0.13183594, -0.10205078, -0.19824219,\n",
       "       -0.09912109, -0.0402832 , -0.65234375, -0.08203125,  0.02368164,\n",
       "        0.4765625 , -0.37890625,  0.03100586, -0.11132812, -0.29882812,\n",
       "       -0.41796875, -0.17089844, -0.34960938,  0.05517578,  0.03417969,\n",
       "        0.08300781, -0.09082031, -0.421875  , -0.11425781,  0.24707031,\n",
       "        0.08056641,  0.28710938, -0.17578125, -0.2265625 , -0.38671875,\n",
       "        0.05981445, -0.02502441, -0.1640625 ,  0.12158203, -0.16210938,\n",
       "       -0.26757812,  0.16308594,  0.09667969,  0.28320312,  0.0534668 ,\n",
       "       -0.140625  , -0.20605469,  0.16210938, -0.18652344, -0.04248047,\n",
       "       -0.08447266, -0.16796875,  0.04467773, -0.29296875,  0.00671387,\n",
       "       -0.13378906, -0.04003906, -0.28710938,  0.18457031,  0.21484375,\n",
       "        0.328125  ,  0.15429688, -0.234375  , -0.25585938, -0.19433594,\n",
       "       -0.00405884, -0.16992188,  0.33007812, -0.21679688, -0.01403809,\n",
       "       -0.14257812,  0.265625  ,  0.20800781,  0.18066406,  0.25195312,\n",
       "        0.00765991, -0.02685547, -0.046875  , -0.00811768, -0.03320312,\n",
       "       -0.05737305, -0.20117188,  0.20703125, -0.02026367, -0.29882812,\n",
       "        0.296875  , -0.23632812, -0.05737305, -0.05712891, -0.26367188,\n",
       "        0.125     ,  0.09423828, -0.16796875,  0.2109375 ,  0.09130859,\n",
       "       -0.03881836,  0.34570312, -0.00436401, -0.28515625,  0.13671875,\n",
       "       -0.14257812,  0.25976562,  0.03833008,  0.22070312, -0.20800781,\n",
       "       -0.02478027, -0.05932617, -0.03320312,  0.12353516,  0.13476562,\n",
       "        0.08642578,  0.22460938, -0.25195312, -0.20898438,  0.22265625,\n",
       "       -0.08691406, -0.359375  , -0.07763672, -0.23242188,  0.1875    ],\n",
       "      dtype=float32)"
      ]
     },
     "metadata": {},
     "execution_count": 17
    }
   ],
   "source": [
    "model['iphone']"
   ]
  },
  {
   "source": [
    "# Working with Facebook's FastText through Gensim Library"
   ],
   "cell_type": "markdown",
   "metadata": {}
  },
  {
   "cell_type": "code",
   "execution_count": 1,
   "metadata": {},
   "outputs": [],
   "source": [
    "# Working with FaceBook's FastText\n",
    "import gensim\n",
    "#from gensim.models.fasttext import FastText\n",
    "from gensim.models.fasttext import load_facebook_model\n",
    "model2 = load_facebook_model(r'C:\\Users\\faria\\Documents\\BAGO project material\\code\\EmailMiningPipeline\\crawl-300d-2M-subword.bin')"
   ]
  },
  {
   "source": [
    "### running the examples from above with different language model and comparing results"
   ],
   "cell_type": "markdown",
   "metadata": {}
  },
  {
   "cell_type": "code",
   "execution_count": 4,
   "metadata": {},
   "outputs": [
    {
     "output_type": "stream",
     "name": "stderr",
     "text": [
      "<ipython-input-4-b9963f009029>:2: DeprecationWarning: Call to deprecated `most_similar` (Method will be removed in 4.0.0, use self.wv.most_similar() instead).\n  model2.most_similar(\"potato\")\n"
     ]
    },
    {
     "output_type": "execute_result",
     "data": {
      "text/plain": [
       "[('potatoes', 0.8531767129898071),\n",
       " ('potatoe', 0.8379727602005005),\n",
       " ('potatos', 0.7816874384880066),\n",
       " ('patato', 0.7599128484725952),\n",
       " ('potato-', 0.7410525679588318),\n",
       " ('spuds', 0.7217776775360107),\n",
       " ('potato.', 0.7180265188217163),\n",
       " ('spud', 0.7137752175331116),\n",
       " ('Potato', 0.7100141644477844),\n",
       " ('potate', 0.7025504112243652)]"
      ]
     },
     "metadata": {},
     "execution_count": 4
    }
   ],
   "source": [
    "# and i can use fasttext like word2vec, with similar commands\n",
    "model2.most_similar(\"potato\")"
   ]
  },
  {
   "cell_type": "code",
   "execution_count": 5,
   "metadata": {},
   "outputs": [
    {
     "output_type": "stream",
     "name": "stderr",
     "text": [
      "<ipython-input-5-0eb4872775fb>:1: DeprecationWarning: Call to deprecated `most_similar` (Method will be removed in 4.0.0, use self.wv.most_similar() instead).\n  model2.most_similar(positive=[\"potato\",\"gravy\",\"cooking\"])\n"
     ]
    },
    {
     "output_type": "execute_result",
     "data": {
      "text/plain": [
       "[('potatoes', 0.7845668196678162),\n",
       " ('pot-roast', 0.7134613990783691),\n",
       " ('stew', 0.712936520576477),\n",
       " ('apple-sauce', 0.7123176455497742),\n",
       " ('sauce', 0.7110551595687866),\n",
       " ('meat', 0.7103894948959351),\n",
       " ('soup', 0.7097933292388916),\n",
       " ('mashed-potato', 0.7085031270980835),\n",
       " ('sausage', 0.7046960592269897),\n",
       " ('potatoe', 0.7016159892082214)]"
      ]
     },
     "metadata": {},
     "execution_count": 5
    }
   ],
   "source": [
    "model2.most_similar(positive=[\"potato\",\"gravy\",\"cooking\"])"
   ]
  },
  {
   "cell_type": "code",
   "execution_count": 7,
   "metadata": {},
   "outputs": [
    {
     "output_type": "stream",
     "name": "stderr",
     "text": [
      "<ipython-input-7-9d2e72f9ec32>:1: DeprecationWarning: Call to deprecated `most_similar` (Method will be removed in 4.0.0, use self.wv.most_similar() instead).\n  model2.most_similar(positive=[\"Canada\",\"Toronto\"], negative=[\"English\"])\n"
     ]
    },
    {
     "output_type": "execute_result",
     "data": {
      "text/plain": [
       "[('Ottawa', 0.7394900321960449),\n",
       " ('Calgary', 0.6979707479476929),\n",
       " ('Ontario', 0.6962372064590454),\n",
       " ('Mississauga', 0.687498152256012),\n",
       " ('Winnipeg', 0.684597373008728),\n",
       " ('Vancouver', 0.678855299949646),\n",
       " ('Edmonton', 0.6662083864212036),\n",
       " ('Montreal', 0.6647902727127075),\n",
       " ('inToronto', 0.6626752614974976),\n",
       " ('Montréal', 0.6605694890022278)]"
      ]
     },
     "metadata": {},
     "execution_count": 7
    }
   ],
   "source": [
    "model2.most_similar(positive=[\"Canada\",\"Toronto\"], negative=[\"English\"])"
   ]
  },
  {
   "cell_type": "code",
   "execution_count": 8,
   "metadata": {},
   "outputs": [
    {
     "output_type": "stream",
     "name": "stderr",
     "text": [
      "<ipython-input-8-27a00253fbfa>:1: DeprecationWarning: Call to deprecated `most_similar` (Method will be removed in 4.0.0, use self.wv.most_similar() instead).\n  model2.most_similar(positive=[\"Canada\",\"Toronto\"], negative=[\"French\"])\n"
     ]
    },
    {
     "output_type": "execute_result",
     "data": {
      "text/plain": [
       "[('Mississauga', 0.6898860931396484),\n",
       " ('Ontario', 0.685552179813385),\n",
       " ('Ottawa', 0.6841644644737244),\n",
       " ('Calgary', 0.6769666075706482),\n",
       " ('Winnipeg', 0.6686005592346191),\n",
       " ('Vancouver', 0.6649799346923828),\n",
       " ('Edmonton', 0.6487692594528198),\n",
       " ('inToronto', 0.648292601108551),\n",
       " ('Saskatoon', 0.6409170627593994),\n",
       " ('Guelph', 0.6361373662948608)]"
      ]
     },
     "metadata": {},
     "execution_count": 8
    }
   ],
   "source": [
    "model2.most_similar(positive=[\"Canada\",\"Toronto\"], negative=[\"French\"])"
   ]
  },
  {
   "cell_type": "code",
   "execution_count": 9,
   "metadata": {},
   "outputs": [
    {
     "output_type": "stream",
     "name": "stderr",
     "text": [
      "<ipython-input-9-b9c1ecc9b6db>:1: DeprecationWarning: Call to deprecated `doesnt_match` (Method will be removed in 4.0.0, use self.wv.doesnt_match() instead).\n  model2.doesnt_match(\"spider pigs fly just like birds and crawl like bugs\".split())\nC:\\Users\\faria\\Anaconda3\\lib\\site-packages\\gensim\\models\\keyedvectors.py:877: FutureWarning: arrays to stack must be passed as a \"sequence\" type such as list or tuple. Support for non-sequence iterables such as generators is deprecated as of NumPy 1.16 and will raise an error in the future.\n  vectors = vstack(self.word_vec(word, use_norm=True) for word in used_words).astype(REAL)\n"
     ]
    },
    {
     "output_type": "execute_result",
     "data": {
      "text/plain": [
       "'pigs'"
      ]
     },
     "metadata": {},
     "execution_count": 9
    }
   ],
   "source": [
    "model2.doesnt_match(\"spider pigs fly just like birds and crawl like bugs\".split()) "
   ]
  },
  {
   "source": [
    "### it is interesting to see the different results, especially with the spider pig example. But it is nice to see that certain relationships like the 'english' and 'french' ones translates across models"
   ],
   "cell_type": "markdown",
   "metadata": {}
  },
  {
   "cell_type": "code",
   "execution_count": null,
   "metadata": {},
   "outputs": [],
   "source": []
  }
 ]
}