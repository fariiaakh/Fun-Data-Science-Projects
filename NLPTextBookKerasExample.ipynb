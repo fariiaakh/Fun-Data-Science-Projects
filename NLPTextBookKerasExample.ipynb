{
 "metadata": {
  "language_info": {
   "codemirror_mode": {
    "name": "ipython",
    "version": 3
   },
   "file_extension": ".py",
   "mimetype": "text/x-python",
   "name": "python",
   "nbconvert_exporter": "python",
   "pygments_lexer": "ipython3",
   "version": "3.8.3"
  },
  "orig_nbformat": 2,
  "kernelspec": {
   "name": "python383jvsc74a57bd0cf6d230331099d4773a6137a56c3541746da970bab15c4b63349a6079cb56b25",
   "display_name": "Python 3.8.3 64-bit ('base': conda)"
  }
 },
 "nbformat": 4,
 "nbformat_minor": 2,
 "cells": [
  {
   "source": [
    "# Training a Neural Network on predicting Exclusive Or"
   ],
   "cell_type": "markdown",
   "metadata": {}
  },
  {
   "cell_type": "code",
   "execution_count": 1,
   "metadata": {},
   "outputs": [],
   "source": [
    "import numpy as np\r\n",
    "from keras.models import Sequential # base Keras model class\r\n",
    "from keras.layers import Dense, Activation #Dense is a fully connected layer of Neurons\r\n",
    "from keras.optimizers import SGD # Stochastic gradient descent\r\n",
    "\r\n"
   ]
  },
  {
   "cell_type": "code",
   "execution_count": 37,
   "metadata": {},
   "outputs": [
    {
     "output_type": "stream",
     "name": "stdout",
     "text": [
      "Model: \"sequential_3\"\n_________________________________________________________________\nLayer (type)                 Output Shape              Param #   \n=================================================================\ndense_6 (Dense)              (None, 10)                30        \n_________________________________________________________________\nactivation_6 (Activation)    (None, 10)                0         \n_________________________________________________________________\ndense_7 (Dense)              (None, 1)                 11        \n_________________________________________________________________\nactivation_7 (Activation)    (None, 1)                 0         \n=================================================================\nTotal params: 41\nTrainable params: 41\nNon-trainable params: 0\n_________________________________________________________________\n"
     ]
    }
   ],
   "source": [
    "#The examples for an exclusive Or\n",
    "x_train=np.array([[0, 0],[0, 1],[1, 0],[1, 1]]) #training data\n",
    "y_train = np.array([[0],[1],[1],[0]]) #training labels, exclusive or \n",
    "\n",
    "model= Sequential()\n",
    "num_neurons=10 #fully connected hidden layer will have 10 neurons\n",
    "model.add(Dense(num_neurons, input_dim=2)) #input dimensions, only needed for the first layers, the later layers will calculate the shape from the previous layers. The feature vectors for our example is 2D\n",
    "model.add(Activation('tanh'))\n",
    "model.add(Dense(1)) # the output layer has one neuron to output a single binary classification value\n",
    "model.add(Activation('sigmoid'))\n",
    "model.summary() #gives overview of network parameters and number of weights"
   ]
  },
  {
   "cell_type": "code",
   "execution_count": null,
   "metadata": {},
   "outputs": [],
   "source": [
    "# the first dense '30' refers to the number of weights the network needs to learn; 2 input weights *10 neurons + 1 bias weight*10 neurons for a total of 30 weights\n",
    "\n",
    "# the second dense '11' refers to the 10 weights the output neuron needs to consider and the additional bias weight, for a total of 11"
   ]
  },
  {
   "cell_type": "code",
   "execution_count": 38,
   "metadata": {},
   "outputs": [],
   "source": [
    "sgd=SGD(learning_rate=0.1) #stochastic gradient is the optimizer that was imported, the learning rate is the fraction that determines how much of the oberved error is corrected during an epoch. too small, and model training time is increased and leaves model vulnerable to settling at local minima. Too large and the model might miss the global minima\n",
    "model.compile(loss='binary_crossentropy', optimizer=sgd, metrics=['accuracy']) #the loss function is defined as binary cross entropy, the compile method builds the model but doesn't train it yet. The weights are initialized\n",
    "\n"
   ]
  },
  {
   "cell_type": "code",
   "execution_count": 5,
   "metadata": {},
   "outputs": [
    {
     "output_type": "execute_result",
     "data": {
      "text/plain": [
       "array([[0.5       ],\n",
       "       [0.33742684],\n",
       "       [0.5948041 ],\n",
       "       [0.43347698]], dtype=float32)"
      ]
     },
     "metadata": {},
     "execution_count": 5
    }
   ],
   "source": [
    "\n",
    "model.predict(x_train) #running before model is trained gives the raw output of the last layer which would normally be produced by the sigmoid function "
   ]
  },
  {
   "cell_type": "code",
   "execution_count": 39,
   "metadata": {},
   "outputs": [
    {
     "output_type": "stream",
     "name": "stdout",
     "text": [
      "Epoch 1/140\n",
      "1/1 [==============================] - 0s 454ms/step - loss: 0.7261 - accuracy: 0.7500\n",
      "Epoch 2/140\n",
      "1/1 [==============================] - 0s 6ms/step - loss: 0.7169 - accuracy: 0.7500\n",
      "Epoch 3/140\n",
      "1/1 [==============================] - 0s 3ms/step - loss: 0.7093 - accuracy: 0.5000\n",
      "Epoch 4/140\n",
      "1/1 [==============================] - 0s 6ms/step - loss: 0.7030 - accuracy: 0.5000\n",
      "Epoch 5/140\n",
      "1/1 [==============================] - 0s 4ms/step - loss: 0.6978 - accuracy: 0.5000\n",
      "Epoch 6/140\n",
      "1/1 [==============================] - 0s 5ms/step - loss: 0.6935 - accuracy: 0.5000\n",
      "Epoch 7/140\n",
      "1/1 [==============================] - 0s 5ms/step - loss: 0.6898 - accuracy: 0.5000\n",
      "Epoch 8/140\n",
      "1/1 [==============================] - 0s 5ms/step - loss: 0.6867 - accuracy: 0.5000\n",
      "Epoch 9/140\n",
      "1/1 [==============================] - 0s 3ms/step - loss: 0.6840 - accuracy: 0.5000\n",
      "Epoch 10/140\n",
      "1/1 [==============================] - 0s 7ms/step - loss: 0.6816 - accuracy: 0.5000\n",
      "Epoch 11/140\n",
      "1/1 [==============================] - 0s 3ms/step - loss: 0.6795 - accuracy: 0.5000\n",
      "Epoch 12/140\n",
      "1/1 [==============================] - 0s 4ms/step - loss: 0.6776 - accuracy: 0.5000\n",
      "Epoch 13/140\n",
      "1/1 [==============================] - 0s 6ms/step - loss: 0.6759 - accuracy: 0.5000\n",
      "Epoch 14/140\n",
      "1/1 [==============================] - 0s 4ms/step - loss: 0.6743 - accuracy: 0.5000\n",
      "Epoch 15/140\n",
      "1/1 [==============================] - 0s 8ms/step - loss: 0.6729 - accuracy: 0.5000\n",
      "Epoch 16/140\n",
      "1/1 [==============================] - 0s 7ms/step - loss: 0.6715 - accuracy: 0.5000\n",
      "Epoch 17/140\n",
      "1/1 [==============================] - 0s 5ms/step - loss: 0.6702 - accuracy: 0.5000\n",
      "Epoch 18/140\n",
      "1/1 [==============================] - 0s 4ms/step - loss: 0.6690 - accuracy: 0.5000\n",
      "Epoch 19/140\n",
      "1/1 [==============================] - 0s 6ms/step - loss: 0.6678 - accuracy: 0.5000\n",
      "Epoch 20/140\n",
      "1/1 [==============================] - 0s 4ms/step - loss: 0.6667 - accuracy: 0.5000\n",
      "Epoch 21/140\n",
      "1/1 [==============================] - 0s 7ms/step - loss: 0.6656 - accuracy: 0.5000\n",
      "Epoch 22/140\n",
      "1/1 [==============================] - 0s 7ms/step - loss: 0.6645 - accuracy: 0.5000\n",
      "Epoch 23/140\n",
      "1/1 [==============================] - 0s 4ms/step - loss: 0.6634 - accuracy: 0.5000\n",
      "Epoch 24/140\n",
      "1/1 [==============================] - 0s 6ms/step - loss: 0.6624 - accuracy: 0.5000\n",
      "Epoch 25/140\n",
      "1/1 [==============================] - 0s 4ms/step - loss: 0.6614 - accuracy: 0.5000\n",
      "Epoch 26/140\n",
      "1/1 [==============================] - 0s 5ms/step - loss: 0.6604 - accuracy: 0.5000\n",
      "Epoch 27/140\n",
      "1/1 [==============================] - 0s 7ms/step - loss: 0.6594 - accuracy: 0.5000\n",
      "Epoch 28/140\n",
      "1/1 [==============================] - 0s 5ms/step - loss: 0.6585 - accuracy: 0.5000\n",
      "Epoch 29/140\n",
      "1/1 [==============================] - 0s 7ms/step - loss: 0.6575 - accuracy: 0.5000\n",
      "Epoch 30/140\n",
      "1/1 [==============================] - 0s 8ms/step - loss: 0.6566 - accuracy: 0.5000\n",
      "Epoch 31/140\n",
      "1/1 [==============================] - 0s 4ms/step - loss: 0.6556 - accuracy: 0.5000\n",
      "Epoch 32/140\n",
      "1/1 [==============================] - 0s 3ms/step - loss: 0.6547 - accuracy: 0.5000\n",
      "Epoch 33/140\n",
      "1/1 [==============================] - 0s 4ms/step - loss: 0.6538 - accuracy: 0.5000\n",
      "Epoch 34/140\n",
      "1/1 [==============================] - 0s 8ms/step - loss: 0.6529 - accuracy: 0.5000\n",
      "Epoch 35/140\n",
      "1/1 [==============================] - 0s 5ms/step - loss: 0.6520 - accuracy: 0.5000\n",
      "Epoch 36/140\n",
      "1/1 [==============================] - 0s 3ms/step - loss: 0.6511 - accuracy: 0.5000\n",
      "Epoch 37/140\n",
      "1/1 [==============================] - 0s 8ms/step - loss: 0.6502 - accuracy: 0.5000\n",
      "Epoch 38/140\n",
      "1/1 [==============================] - 0s 6ms/step - loss: 0.6493 - accuracy: 0.5000\n",
      "Epoch 39/140\n",
      "1/1 [==============================] - 0s 5ms/step - loss: 0.6484 - accuracy: 0.5000\n",
      "Epoch 40/140\n",
      "1/1 [==============================] - 0s 7ms/step - loss: 0.6475 - accuracy: 0.5000\n",
      "Epoch 41/140\n",
      "1/1 [==============================] - 0s 5ms/step - loss: 0.6466 - accuracy: 0.5000\n",
      "Epoch 42/140\n",
      "1/1 [==============================] - 0s 5ms/step - loss: 0.6458 - accuracy: 0.5000\n",
      "Epoch 43/140\n",
      "1/1 [==============================] - 0s 5ms/step - loss: 0.6449 - accuracy: 0.5000\n",
      "Epoch 44/140\n",
      "1/1 [==============================] - 0s 9ms/step - loss: 0.6440 - accuracy: 0.5000\n",
      "Epoch 45/140\n",
      "1/1 [==============================] - 0s 4ms/step - loss: 0.6431 - accuracy: 0.5000\n",
      "Epoch 46/140\n",
      "1/1 [==============================] - 0s 4ms/step - loss: 0.6423 - accuracy: 0.5000\n",
      "Epoch 47/140\n",
      "1/1 [==============================] - 0s 3ms/step - loss: 0.6414 - accuracy: 0.5000\n",
      "Epoch 48/140\n",
      "1/1 [==============================] - 0s 4ms/step - loss: 0.6405 - accuracy: 0.5000\n",
      "Epoch 49/140\n",
      "1/1 [==============================] - 0s 11ms/step - loss: 0.6397 - accuracy: 0.5000\n",
      "Epoch 50/140\n",
      "1/1 [==============================] - 0s 9ms/step - loss: 0.6388 - accuracy: 0.5000\n",
      "Epoch 51/140\n",
      "1/1 [==============================] - 0s 9ms/step - loss: 0.6379 - accuracy: 0.5000\n",
      "Epoch 52/140\n",
      "1/1 [==============================] - 0s 6ms/step - loss: 0.6371 - accuracy: 0.5000\n",
      "Epoch 53/140\n",
      "1/1 [==============================] - 0s 5ms/step - loss: 0.6362 - accuracy: 0.5000\n",
      "Epoch 54/140\n",
      "1/1 [==============================] - 0s 2ms/step - loss: 0.6353 - accuracy: 0.5000\n",
      "Epoch 55/140\n",
      "1/1 [==============================] - 0s 8ms/step - loss: 0.6344 - accuracy: 0.5000\n",
      "Epoch 56/140\n",
      "1/1 [==============================] - 0s 5ms/step - loss: 0.6336 - accuracy: 0.5000\n",
      "Epoch 57/140\n",
      "1/1 [==============================] - 0s 4ms/step - loss: 0.6327 - accuracy: 0.7500\n",
      "Epoch 58/140\n",
      "1/1 [==============================] - 0s 9ms/step - loss: 0.6318 - accuracy: 0.7500\n",
      "Epoch 59/140\n",
      "1/1 [==============================] - 0s 12ms/step - loss: 0.6309 - accuracy: 0.7500\n",
      "Epoch 60/140\n",
      "1/1 [==============================] - 0s 4ms/step - loss: 0.6300 - accuracy: 0.7500\n",
      "Epoch 61/140\n",
      "1/1 [==============================] - 0s 5ms/step - loss: 0.6291 - accuracy: 0.7500\n",
      "Epoch 62/140\n",
      "1/1 [==============================] - 0s 10ms/step - loss: 0.6282 - accuracy: 0.7500\n",
      "Epoch 63/140\n",
      "1/1 [==============================] - 0s 7ms/step - loss: 0.6273 - accuracy: 0.7500\n",
      "Epoch 64/140\n",
      "1/1 [==============================] - 0s 6ms/step - loss: 0.6264 - accuracy: 0.7500\n",
      "Epoch 65/140\n",
      "1/1 [==============================] - 0s 7ms/step - loss: 0.6255 - accuracy: 0.7500\n",
      "Epoch 66/140\n",
      "1/1 [==============================] - 0s 7ms/step - loss: 0.6246 - accuracy: 0.7500\n",
      "Epoch 67/140\n",
      "1/1 [==============================] - 0s 4ms/step - loss: 0.6237 - accuracy: 0.7500\n",
      "Epoch 68/140\n",
      "1/1 [==============================] - 0s 6ms/step - loss: 0.6228 - accuracy: 0.7500\n",
      "Epoch 69/140\n",
      "1/1 [==============================] - 0s 8ms/step - loss: 0.6219 - accuracy: 0.7500\n",
      "Epoch 70/140\n",
      "1/1 [==============================] - 0s 4ms/step - loss: 0.6210 - accuracy: 0.7500\n",
      "Epoch 71/140\n",
      "1/1 [==============================] - 0s 5ms/step - loss: 0.6200 - accuracy: 0.7500\n",
      "Epoch 72/140\n",
      "1/1 [==============================] - 0s 4ms/step - loss: 0.6191 - accuracy: 0.7500\n",
      "Epoch 73/140\n",
      "1/1 [==============================] - 0s 6ms/step - loss: 0.6182 - accuracy: 0.7500\n",
      "Epoch 74/140\n",
      "1/1 [==============================] - 0s 8ms/step - loss: 0.6172 - accuracy: 0.7500\n",
      "Epoch 75/140\n",
      "1/1 [==============================] - 0s 4ms/step - loss: 0.6163 - accuracy: 0.7500\n",
      "Epoch 76/140\n",
      "1/1 [==============================] - 0s 5ms/step - loss: 0.6153 - accuracy: 0.7500\n",
      "Epoch 77/140\n",
      "1/1 [==============================] - 0s 7ms/step - loss: 0.6144 - accuracy: 0.7500\n",
      "Epoch 78/140\n",
      "1/1 [==============================] - 0s 4ms/step - loss: 0.6134 - accuracy: 0.7500\n",
      "Epoch 79/140\n",
      "1/1 [==============================] - 0s 9ms/step - loss: 0.6124 - accuracy: 0.7500\n",
      "Epoch 80/140\n",
      "1/1 [==============================] - 0s 9ms/step - loss: 0.6115 - accuracy: 0.7500\n",
      "Epoch 81/140\n",
      "1/1 [==============================] - 0s 6ms/step - loss: 0.6105 - accuracy: 0.7500\n",
      "Epoch 82/140\n",
      "1/1 [==============================] - 0s 4ms/step - loss: 0.6095 - accuracy: 0.7500\n",
      "Epoch 83/140\n",
      "1/1 [==============================] - 0s 7ms/step - loss: 0.6085 - accuracy: 0.7500\n",
      "Epoch 84/140\n",
      "1/1 [==============================] - 0s 5ms/step - loss: 0.6075 - accuracy: 0.7500\n",
      "Epoch 85/140\n",
      "1/1 [==============================] - 0s 6ms/step - loss: 0.6065 - accuracy: 0.7500\n",
      "Epoch 86/140\n",
      "1/1 [==============================] - 0s 4ms/step - loss: 0.6055 - accuracy: 0.7500\n",
      "Epoch 87/140\n",
      "1/1 [==============================] - 0s 6ms/step - loss: 0.6045 - accuracy: 0.7500\n",
      "Epoch 88/140\n",
      "1/1 [==============================] - 0s 6ms/step - loss: 0.6034 - accuracy: 0.7500\n",
      "Epoch 89/140\n",
      "1/1 [==============================] - 0s 5ms/step - loss: 0.6024 - accuracy: 0.7500\n",
      "Epoch 90/140\n",
      "1/1 [==============================] - 0s 6ms/step - loss: 0.6014 - accuracy: 0.7500\n",
      "Epoch 91/140\n",
      "1/1 [==============================] - 0s 6ms/step - loss: 0.6003 - accuracy: 0.7500\n",
      "Epoch 92/140\n",
      "1/1 [==============================] - 0s 6ms/step - loss: 0.5993 - accuracy: 0.7500\n",
      "Epoch 93/140\n",
      "1/1 [==============================] - 0s 15ms/step - loss: 0.5982 - accuracy: 0.7500\n",
      "Epoch 94/140\n",
      "1/1 [==============================] - 0s 14ms/step - loss: 0.5972 - accuracy: 0.7500\n",
      "Epoch 95/140\n",
      "1/1 [==============================] - 0s 7ms/step - loss: 0.5961 - accuracy: 0.7500\n",
      "Epoch 96/140\n",
      "1/1 [==============================] - 0s 3ms/step - loss: 0.5950 - accuracy: 0.7500\n",
      "Epoch 97/140\n",
      "1/1 [==============================] - 0s 8ms/step - loss: 0.5939 - accuracy: 0.7500\n",
      "Epoch 98/140\n",
      "1/1 [==============================] - 0s 5ms/step - loss: 0.5928 - accuracy: 0.7500\n",
      "Epoch 99/140\n",
      "1/1 [==============================] - 0s 5ms/step - loss: 0.5917 - accuracy: 0.7500\n",
      "Epoch 100/140\n",
      "1/1 [==============================] - 0s 7ms/step - loss: 0.5906 - accuracy: 0.7500\n",
      "Epoch 101/140\n",
      "1/1 [==============================] - 0s 5ms/step - loss: 0.5895 - accuracy: 0.7500\n",
      "Epoch 102/140\n",
      "1/1 [==============================] - 0s 7ms/step - loss: 0.5884 - accuracy: 0.7500\n",
      "Epoch 103/140\n",
      "1/1 [==============================] - 0s 7ms/step - loss: 0.5873 - accuracy: 0.7500\n",
      "Epoch 104/140\n",
      "1/1 [==============================] - 0s 4ms/step - loss: 0.5861 - accuracy: 0.7500\n",
      "Epoch 105/140\n",
      "1/1 [==============================] - 0s 4ms/step - loss: 0.5850 - accuracy: 0.7500\n",
      "Epoch 106/140\n",
      "1/1 [==============================] - 0s 5ms/step - loss: 0.5838 - accuracy: 0.7500\n",
      "Epoch 107/140\n",
      "1/1 [==============================] - 0s 5ms/step - loss: 0.5827 - accuracy: 0.7500\n",
      "Epoch 108/140\n",
      "1/1 [==============================] - 0s 5ms/step - loss: 0.5815 - accuracy: 0.7500\n",
      "Epoch 109/140\n",
      "1/1 [==============================] - 0s 8ms/step - loss: 0.5803 - accuracy: 0.7500\n",
      "Epoch 110/140\n",
      "1/1 [==============================] - 0s 6ms/step - loss: 0.5792 - accuracy: 0.7500\n",
      "Epoch 111/140\n",
      "1/1 [==============================] - 0s 7ms/step - loss: 0.5780 - accuracy: 0.7500\n",
      "Epoch 112/140\n",
      "1/1 [==============================] - 0s 5ms/step - loss: 0.5768 - accuracy: 0.7500\n",
      "Epoch 113/140\n",
      "1/1 [==============================] - 0s 5ms/step - loss: 0.5756 - accuracy: 0.7500\n",
      "Epoch 114/140\n",
      "1/1 [==============================] - 0s 7ms/step - loss: 0.5744 - accuracy: 0.7500\n",
      "Epoch 115/140\n",
      "1/1 [==============================] - 0s 4ms/step - loss: 0.5732 - accuracy: 0.7500\n",
      "Epoch 116/140\n",
      "1/1 [==============================] - 0s 4ms/step - loss: 0.5719 - accuracy: 0.7500\n",
      "Epoch 117/140\n",
      "1/1 [==============================] - 0s 5ms/step - loss: 0.5707 - accuracy: 0.7500\n",
      "Epoch 118/140\n",
      "1/1 [==============================] - 0s 5ms/step - loss: 0.5694 - accuracy: 0.7500\n",
      "Epoch 119/140\n",
      "1/1 [==============================] - 0s 7ms/step - loss: 0.5682 - accuracy: 0.7500\n",
      "Epoch 120/140\n",
      "1/1 [==============================] - 0s 5ms/step - loss: 0.5669 - accuracy: 0.7500\n",
      "Epoch 121/140\n",
      "1/1 [==============================] - 0s 6ms/step - loss: 0.5657 - accuracy: 0.7500\n",
      "Epoch 122/140\n",
      "1/1 [==============================] - 0s 4ms/step - loss: 0.5644 - accuracy: 0.7500\n",
      "Epoch 123/140\n",
      "1/1 [==============================] - 0s 4ms/step - loss: 0.5631 - accuracy: 0.7500\n",
      "Epoch 124/140\n",
      "1/1 [==============================] - 0s 4ms/step - loss: 0.5618 - accuracy: 0.7500\n",
      "Epoch 125/140\n",
      "1/1 [==============================] - 0s 7ms/step - loss: 0.5605 - accuracy: 0.7500\n",
      "Epoch 126/140\n",
      "1/1 [==============================] - 0s 3ms/step - loss: 0.5592 - accuracy: 0.7500\n",
      "Epoch 127/140\n",
      "1/1 [==============================] - 0s 40ms/step - loss: 0.5579 - accuracy: 0.7500\n",
      "Epoch 128/140\n",
      "1/1 [==============================] - 0s 4ms/step - loss: 0.5566 - accuracy: 0.7500\n",
      "Epoch 129/140\n",
      "1/1 [==============================] - 0s 4ms/step - loss: 0.5553 - accuracy: 0.7500\n",
      "Epoch 130/140\n",
      "1/1 [==============================] - 0s 6ms/step - loss: 0.5539 - accuracy: 0.7500\n",
      "Epoch 131/140\n",
      "1/1 [==============================] - 0s 6ms/step - loss: 0.5526 - accuracy: 0.7500\n",
      "Epoch 132/140\n",
      "1/1 [==============================] - 0s 4ms/step - loss: 0.5512 - accuracy: 0.7500\n",
      "Epoch 133/140\n",
      "1/1 [==============================] - 0s 5ms/step - loss: 0.5499 - accuracy: 0.7500\n",
      "Epoch 134/140\n",
      "1/1 [==============================] - 0s 3ms/step - loss: 0.5485 - accuracy: 1.0000\n",
      "Epoch 135/140\n",
      "1/1 [==============================] - 0s 4ms/step - loss: 0.5471 - accuracy: 1.0000\n",
      "Epoch 136/140\n",
      "1/1 [==============================] - 0s 5ms/step - loss: 0.5458 - accuracy: 1.0000\n",
      "Epoch 137/140\n",
      "1/1 [==============================] - 0s 6ms/step - loss: 0.5444 - accuracy: 1.0000\n",
      "Epoch 138/140\n",
      "1/1 [==============================] - 0s 5ms/step - loss: 0.5430 - accuracy: 1.0000\n",
      "Epoch 139/140\n",
      "1/1 [==============================] - 0s 6ms/step - loss: 0.5416 - accuracy: 1.0000\n",
      "Epoch 140/140\n",
      "1/1 [==============================] - 0s 4ms/step - loss: 0.5401 - accuracy: 1.0000\n"
     ]
    },
    {
     "output_type": "execute_result",
     "data": {
      "text/plain": [
       "<tensorflow.python.keras.callbacks.History at 0x2291d8fa610>"
      ]
     },
     "metadata": {},
     "execution_count": 39
    }
   ],
   "source": [
    "model.fit(x_train,y_train,epochs=140) # here we are training the model"
   ]
  },
  {
   "cell_type": "code",
   "execution_count": 40,
   "metadata": {},
   "outputs": [
    {
     "output_type": "execute_result",
     "data": {
      "text/plain": [
       "array([[0],\n",
       "       [1],\n",
       "       [1],\n",
       "       [0]])"
      ]
     },
     "metadata": {},
     "execution_count": 40
    }
   ],
   "source": [
    "model.predict_classes(x_train)"
   ]
  },
  {
   "source": [
    "In the textbook, 100 epochs returned the proper results however, for me, it took 140 epochs. 120 didn't work"
   ],
   "cell_type": "markdown",
   "metadata": {}
  },
  {
   "cell_type": "code",
   "execution_count": 41,
   "metadata": {},
   "outputs": [
    {
     "output_type": "execute_result",
     "data": {
      "text/plain": [
       "array([[0.33858937],\n",
       "       [0.58934826],\n",
       "       [0.5891377 ],\n",
       "       [0.49524826]], dtype=float32)"
      ]
     },
     "metadata": {},
     "execution_count": 41
    }
   ],
   "source": [
    "model.predict(x_train)"
   ]
  },
  {
   "source": [
    "Here we can see the accuracy with which each label was predicted"
   ],
   "cell_type": "markdown",
   "metadata": {}
  },
  {
   "source": [
    "### we are going to save this model so we don't have use computational power to retrain it again"
   ],
   "cell_type": "markdown",
   "metadata": {}
  },
  {
   "cell_type": "code",
   "execution_count": 43,
   "metadata": {},
   "outputs": [],
   "source": [
    "import h5py\n",
    "model_structure=model.to_json() #using a keras helper method, save the network structure\n",
    "with open(\"basic_model.json\", \"w\") as json_file:\n",
    "    json_file.write(model_structure)\n",
    "model.save_weights(\"basic_weights.h5\") #the weights have to be save separetely and must be reinstantiated with the model structure when model will be used later on"
   ]
  },
  {
   "cell_type": "code",
   "execution_count": null,
   "metadata": {},
   "outputs": [],
   "source": []
  }
 ]
}